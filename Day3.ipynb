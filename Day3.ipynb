{
 "cells": [
  {
   "cell_type": "markdown",
   "metadata": {},
   "source": [
    "Dag 3 – Aggregasjoner & groupby + Hjelpefunksjoner i Script\n",
    "Teori / Læringsmål\n",
    "* Forstå hvordan groupby fungerer i Pandas.\n",
    "* Lage aggregeringer: mean, count, sum, min, max.\n",
    "* Lære å skrive små hjelpefunksjoner i script for å gjøre beregninger.\n",
    "\n",
    "Bruk DataFrame fra Dag 2 eller lag et nytt med kolonner: Navn, Alder, Avdeling, Lønn, Sykefravær.\n",
    "Gruppér etter avdeling og beregn:\n",
    "* gjennomsnitt\n",
    "* sum\n",
    "\n",
    "Lag dag3.py.\n",
    "* Definer en funksjon som gir gjennomsnittslønn per avdeling\n",
    "* Legg til en funksjon for totalt sykefravær per avdeling.\n",
    "* Kjør alt i if __name__ == \"__main__\": og print resultater."
   ]
  },
  {
   "cell_type": "code",
   "execution_count": 13,
   "metadata": {},
   "outputs": [],
   "source": [
    "import pandas as pd\n",
    "import numpy as np"
   ]
  },
  {
   "cell_type": "code",
   "execution_count": 8,
   "metadata": {},
   "outputs": [],
   "source": [
    "df = pd.DataFrame([[\"Lise Hansen\", 28, \"HR\", 550000], \n",
    "                    [\"Knut Knutsen\", 36, \"IT\", 780000], \n",
    "                    [\"Arild Arildsen\", 52, \"Ledelse\", 1020000], \n",
    "                    [\"Helen Hansen\", 43, \"Finans\", 980000], \n",
    "                    [\"Stian Stiansen\", 39, \"Renholder\", 510000]], \n",
    "                    columns=[\"Navn\", \"Alder\", \"Avdeling\", \"Lønn\"])"
   ]
  },
  {
   "cell_type": "code",
   "execution_count": 9,
   "metadata": {},
   "outputs": [],
   "source": [
    "nye_rader = pd.DataFrame([[\"Kristoffer Kristoffersen\", 47, \"HR\", 780000], \n",
    "                    [\"William Williamsen\", 23, \"IT\", 430000], \n",
    "                    [\"Helen Helensen\", 38, \"Ledelse\", 1090000],\n",
    "                    [\"Boye Bojessen\", 33, \"IT\", 1250000],\n",
    "                    [\"Kaja Kajessen\", 29, \"Finans\", 750000]],\n",
    "                    columns=[\"Navn\", \"Alder\", \"Avdeling\", \"Lønn\"])"
   ]
  },
  {
   "cell_type": "code",
   "execution_count": 10,
   "metadata": {},
   "outputs": [
    {
     "data": {
      "text/html": [
       "<div>\n",
       "<style scoped>\n",
       "    .dataframe tbody tr th:only-of-type {\n",
       "        vertical-align: middle;\n",
       "    }\n",
       "\n",
       "    .dataframe tbody tr th {\n",
       "        vertical-align: top;\n",
       "    }\n",
       "\n",
       "    .dataframe thead th {\n",
       "        text-align: right;\n",
       "    }\n",
       "</style>\n",
       "<table border=\"1\" class=\"dataframe\">\n",
       "  <thead>\n",
       "    <tr style=\"text-align: right;\">\n",
       "      <th></th>\n",
       "      <th>Navn</th>\n",
       "      <th>Alder</th>\n",
       "      <th>Avdeling</th>\n",
       "      <th>Lønn</th>\n",
       "    </tr>\n",
       "  </thead>\n",
       "  <tbody>\n",
       "    <tr>\n",
       "      <th>0</th>\n",
       "      <td>Lise Hansen</td>\n",
       "      <td>28</td>\n",
       "      <td>HR</td>\n",
       "      <td>550000</td>\n",
       "    </tr>\n",
       "    <tr>\n",
       "      <th>1</th>\n",
       "      <td>Knut Knutsen</td>\n",
       "      <td>36</td>\n",
       "      <td>IT</td>\n",
       "      <td>780000</td>\n",
       "    </tr>\n",
       "    <tr>\n",
       "      <th>2</th>\n",
       "      <td>Arild Arildsen</td>\n",
       "      <td>52</td>\n",
       "      <td>Ledelse</td>\n",
       "      <td>1020000</td>\n",
       "    </tr>\n",
       "    <tr>\n",
       "      <th>3</th>\n",
       "      <td>Helen Hansen</td>\n",
       "      <td>43</td>\n",
       "      <td>Finans</td>\n",
       "      <td>980000</td>\n",
       "    </tr>\n",
       "    <tr>\n",
       "      <th>4</th>\n",
       "      <td>Stian Stiansen</td>\n",
       "      <td>39</td>\n",
       "      <td>Renholder</td>\n",
       "      <td>510000</td>\n",
       "    </tr>\n",
       "    <tr>\n",
       "      <th>5</th>\n",
       "      <td>Kristoffer Kristoffersen</td>\n",
       "      <td>47</td>\n",
       "      <td>HR</td>\n",
       "      <td>780000</td>\n",
       "    </tr>\n",
       "    <tr>\n",
       "      <th>6</th>\n",
       "      <td>William Williamsen</td>\n",
       "      <td>23</td>\n",
       "      <td>IT</td>\n",
       "      <td>430000</td>\n",
       "    </tr>\n",
       "    <tr>\n",
       "      <th>7</th>\n",
       "      <td>Helen Helensen</td>\n",
       "      <td>38</td>\n",
       "      <td>Ledelse</td>\n",
       "      <td>1090000</td>\n",
       "    </tr>\n",
       "    <tr>\n",
       "      <th>8</th>\n",
       "      <td>Boye Bojessen</td>\n",
       "      <td>33</td>\n",
       "      <td>IT</td>\n",
       "      <td>1250000</td>\n",
       "    </tr>\n",
       "    <tr>\n",
       "      <th>9</th>\n",
       "      <td>Kaja Kajessen</td>\n",
       "      <td>29</td>\n",
       "      <td>Finans</td>\n",
       "      <td>750000</td>\n",
       "    </tr>\n",
       "  </tbody>\n",
       "</table>\n",
       "</div>"
      ],
      "text/plain": [
       "                       Navn  Alder   Avdeling     Lønn\n",
       "0               Lise Hansen     28         HR   550000\n",
       "1              Knut Knutsen     36         IT   780000\n",
       "2            Arild Arildsen     52    Ledelse  1020000\n",
       "3              Helen Hansen     43     Finans   980000\n",
       "4            Stian Stiansen     39  Renholder   510000\n",
       "5  Kristoffer Kristoffersen     47         HR   780000\n",
       "6        William Williamsen     23         IT   430000\n",
       "7            Helen Helensen     38    Ledelse  1090000\n",
       "8             Boye Bojessen     33         IT  1250000\n",
       "9             Kaja Kajessen     29     Finans   750000"
      ]
     },
     "execution_count": 10,
     "metadata": {},
     "output_type": "execute_result"
    }
   ],
   "source": [
    "df = pd.concat([df, nye_rader], ignore_index = True)\n",
    "df"
   ]
  },
  {
   "cell_type": "code",
   "execution_count": 14,
   "metadata": {},
   "outputs": [],
   "source": [
    "df[\"Sykefraværs_dager\"] = np.random.randint(0,11, size=len(df))"
   ]
  },
  {
   "cell_type": "code",
   "execution_count": 12,
   "metadata": {},
   "outputs": [
    {
     "data": {
      "text/plain": [
       "Avdeling\n",
       "Finans        865000.0\n",
       "HR            665000.0\n",
       "IT            820000.0\n",
       "Ledelse      1055000.0\n",
       "Renholder     510000.0\n",
       "Name: Lønn, dtype: float64"
      ]
     },
     "execution_count": 12,
     "metadata": {},
     "output_type": "execute_result"
    }
   ],
   "source": [
    "df.groupby(\"Avdeling\")[\"Lønn\"].mean()"
   ]
  },
  {
   "cell_type": "code",
   "execution_count": 17,
   "metadata": {},
   "outputs": [
    {
     "data": {
      "text/html": [
       "<div>\n",
       "<style scoped>\n",
       "    .dataframe tbody tr th:only-of-type {\n",
       "        vertical-align: middle;\n",
       "    }\n",
       "\n",
       "    .dataframe tbody tr th {\n",
       "        vertical-align: top;\n",
       "    }\n",
       "\n",
       "    .dataframe thead tr th {\n",
       "        text-align: left;\n",
       "    }\n",
       "\n",
       "    .dataframe thead tr:last-of-type th {\n",
       "        text-align: right;\n",
       "    }\n",
       "</style>\n",
       "<table border=\"1\" class=\"dataframe\">\n",
       "  <thead>\n",
       "    <tr>\n",
       "      <th></th>\n",
       "      <th colspan=\"3\" halign=\"left\">Lønn</th>\n",
       "      <th colspan=\"2\" halign=\"left\">Sykefraværs_dager</th>\n",
       "    </tr>\n",
       "    <tr>\n",
       "      <th></th>\n",
       "      <th>mean</th>\n",
       "      <th>max</th>\n",
       "      <th>min</th>\n",
       "      <th>mean</th>\n",
       "      <th>sum</th>\n",
       "    </tr>\n",
       "    <tr>\n",
       "      <th>Avdeling</th>\n",
       "      <th></th>\n",
       "      <th></th>\n",
       "      <th></th>\n",
       "      <th></th>\n",
       "      <th></th>\n",
       "    </tr>\n",
       "  </thead>\n",
       "  <tbody>\n",
       "    <tr>\n",
       "      <th>Finans</th>\n",
       "      <td>865000.0</td>\n",
       "      <td>980000</td>\n",
       "      <td>750000</td>\n",
       "      <td>3.0</td>\n",
       "      <td>6</td>\n",
       "    </tr>\n",
       "    <tr>\n",
       "      <th>HR</th>\n",
       "      <td>665000.0</td>\n",
       "      <td>780000</td>\n",
       "      <td>550000</td>\n",
       "      <td>5.5</td>\n",
       "      <td>11</td>\n",
       "    </tr>\n",
       "    <tr>\n",
       "      <th>IT</th>\n",
       "      <td>820000.0</td>\n",
       "      <td>1250000</td>\n",
       "      <td>430000</td>\n",
       "      <td>5.0</td>\n",
       "      <td>15</td>\n",
       "    </tr>\n",
       "    <tr>\n",
       "      <th>Ledelse</th>\n",
       "      <td>1055000.0</td>\n",
       "      <td>1090000</td>\n",
       "      <td>1020000</td>\n",
       "      <td>3.5</td>\n",
       "      <td>7</td>\n",
       "    </tr>\n",
       "    <tr>\n",
       "      <th>Renholder</th>\n",
       "      <td>510000.0</td>\n",
       "      <td>510000</td>\n",
       "      <td>510000</td>\n",
       "      <td>0.0</td>\n",
       "      <td>0</td>\n",
       "    </tr>\n",
       "  </tbody>\n",
       "</table>\n",
       "</div>"
      ],
      "text/plain": [
       "                Lønn                   Sykefraværs_dager    \n",
       "                mean      max      min              mean sum\n",
       "Avdeling                                                    \n",
       "Finans      865000.0   980000   750000               3.0   6\n",
       "HR          665000.0   780000   550000               5.5  11\n",
       "IT          820000.0  1250000   430000               5.0  15\n",
       "Ledelse    1055000.0  1090000  1020000               3.5   7\n",
       "Renholder   510000.0   510000   510000               0.0   0"
      ]
     },
     "execution_count": 17,
     "metadata": {},
     "output_type": "execute_result"
    }
   ],
   "source": [
    "df.groupby(\"Avdeling\").agg({\n",
    "    \"Lønn\": [\"mean\", \"max\", \"min\"],\n",
    "    \"Sykefraværs_dager\": [\"mean\", \"sum\"]\n",
    "})\n"
   ]
  },
  {
   "cell_type": "code",
   "execution_count": null,
   "metadata": {},
   "outputs": [],
   "source": []
  }
 ],
 "metadata": {
  "kernelspec": {
   "display_name": ".venv",
   "language": "python",
   "name": "python3"
  },
  "language_info": {
   "codemirror_mode": {
    "name": "ipython",
    "version": 3
   },
   "file_extension": ".py",
   "mimetype": "text/x-python",
   "name": "python",
   "nbconvert_exporter": "python",
   "pygments_lexer": "ipython3",
   "version": "3.12.2"
  }
 },
 "nbformat": 4,
 "nbformat_minor": 2
}
