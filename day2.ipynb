{
 "cells": [
  {
   "cell_type": "markdown",
   "metadata": {},
   "source": [
    "# Dag 2 – Indeksering & Filtrering i Pandas + Funksjoner i Script\n",
    "Teori / Læringsmål\n",
    "* ~~Lære forskjellen på .loc og .iloc~~\n",
    "* ~~Filtrere rader basert på betingelser~~\n",
    "* ~~Lage små funksjoner for gjenbruk av kode~~\n",
    "\n",
    "Praktiske oppgaver (Notebook)\n",
    "* ~~Indeksering med .loc~~\n",
    "* ~~Hent alle kolonner for ansatte i avdeling HR.~~\n",
    "* ~~Indeksering med .iloc~~\n",
    "* ~~Hent de to første radene i DataFrame.~~\n",
    "* ~~Filtrering med flere betingelser~~\n",
    "* ~~Sorter DataFrame etter lønn, stigende eller synkende.~~\n",
    "\n",
    "Praktiske oppgaver (Script)\n",
    "Lag en funksjon:\n",
    "def filtrer_hr(df):\n",
    "    return df.loc[df['Avdeling'] == 'HR']\n",
    "Bruk if __name__ == \"__main__\": for å kjøre funksjonen og printe output."
   ]
  },
  {
   "cell_type": "code",
   "execution_count": 1,
   "metadata": {},
   "outputs": [],
   "source": [
    "import pandas as pd"
   ]
  },
  {
   "cell_type": "code",
   "execution_count": 2,
   "metadata": {},
   "outputs": [],
   "source": [
    "df = pd.DataFrame([[\"Lise Hansen\", 28, \"HR\", 550000], \n",
    "                    [\"Knut Knutsen\", 36, \"IT\", 780000], \n",
    "                    [\"Arild Arildsen\", 52, \"Ledelse\", 1020000], \n",
    "                    [\"Helen Hansen\", 43, \"Finans\", 980000], \n",
    "                    [\"Stian Stiansen\", 39, \"Renholder\", 510000]], \n",
    "                    columns=[\"Navn\", \"Alder\", \"Avdeling\", \"Lønn\"])"
   ]
  },
  {
   "cell_type": "code",
   "execution_count": 3,
   "metadata": {},
   "outputs": [
    {
     "name": "stdout",
     "output_type": "stream",
     "text": [
      "          Navn  Alder Avdeling    Lønn\n",
      "0  Lise Hansen     28       HR  550000\n"
     ]
    }
   ],
   "source": [
    "hr_ansatte = df.loc[df[\"Avdeling\"] == \"HR\"]\n",
    "print(hr_ansatte)"
   ]
  },
  {
   "cell_type": "code",
   "execution_count": 6,
   "metadata": {},
   "outputs": [
    {
     "name": "stdout",
     "output_type": "stream",
     "text": [
      "             Navn  Alder Avdeling     Lønn\n",
      "2  Arild Arildsen     52  Ledelse  1020000\n",
      "3    Helen Hansen     43   Finans   980000\n"
     ]
    }
   ],
   "source": [
    "filtrert = df[(df[\"Lønn\"] > 550000) & (df[\"Alder\"] > 37)]\n",
    "print(filtrert)"
   ]
  },
  {
   "cell_type": "code",
   "execution_count": 8,
   "metadata": {},
   "outputs": [
    {
     "name": "stdout",
     "output_type": "stream",
     "text": [
      "             Navn  Alder   Avdeling     Lønn\n",
      "2  Arild Arildsen     52    Ledelse  1020000\n",
      "3    Helen Hansen     43     Finans   980000\n",
      "1    Knut Knutsen     36         IT   780000\n",
      "0     Lise Hansen     28         HR   550000\n",
      "4  Stian Stiansen     39  Renholder   510000\n"
     ]
    }
   ],
   "source": [
    "df_sort = df.sort_values(by=\"Lønn\", ascending=False)\n",
    "print(df_sort)"
   ]
  },
  {
   "cell_type": "code",
   "execution_count": 9,
   "metadata": {},
   "outputs": [],
   "source": [
    "def filter_hr(df):\n",
    "    return df.loc[df[\"Avdeling\"] == \"HR\"]"
   ]
  },
  {
   "cell_type": "code",
   "execution_count": 11,
   "metadata": {},
   "outputs": [
    {
     "name": "stdout",
     "output_type": "stream",
     "text": [
      "          Navn  Alder Avdeling    Lønn\n",
      "0  Lise Hansen     28       HR  550000\n"
     ]
    }
   ],
   "source": [
    "print(filter_hr(df))"
   ]
  }
 ],
 "metadata": {
  "kernelspec": {
   "display_name": ".venv",
   "language": "python",
   "name": "python3"
  },
  "language_info": {
   "codemirror_mode": {
    "name": "ipython",
    "version": 3
   },
   "file_extension": ".py",
   "mimetype": "text/x-python",
   "name": "python",
   "nbconvert_exporter": "python",
   "pygments_lexer": "ipython3",
   "version": "3.12.2"
  }
 },
 "nbformat": 4,
 "nbformat_minor": 2
}
