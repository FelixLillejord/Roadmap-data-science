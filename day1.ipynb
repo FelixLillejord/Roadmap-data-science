{
 "cells": [
  {
   "cell_type": "markdown",
   "metadata": {},
   "source": [
    "Teori / Læringsmål\n",
    "* Forstå Pandas Series og DataFrame.\n",
    "* Lære grunnleggende operasjoner: opprette, indeksere, hente kolonner/rader.\n",
    "* Begynn å tenke på Python-script utenfor notebook.\n",
    "\n",
    "Oppgave:\n",
    "* ~~Lag en liten DataFrame med eksempeldata for ansatte:\n",
    "    Kolonner: Navn, Alder, Avdeling, Lønn\n",
    "    Fyll inn 5–10 fiktive ansatte.~~\n",
    "\n",
    "* ~~Utforsk DataFrame:\n",
    "    Hent en kolonne (df['Lønn']).\n",
    "    Hent en rad (df.iloc[0]).\n",
    "    Skriv ut datatyper (df.dtypes).~~\n",
    "\n",
    "* ~~Opprett en Series med fiktive sykefraværsdager (df['Sykefravær'])~~\n"
   ]
  },
  {
   "cell_type": "code",
   "execution_count": 4,
   "metadata": {},
   "outputs": [],
   "source": [
    "import pandas as pd"
   ]
  },
  {
   "cell_type": "code",
   "execution_count": 11,
   "metadata": {},
   "outputs": [],
   "source": [
    "df = pd.DataFrame([[\"Lise Hansen\", 28, \"HR\", 550000], [\"Knut Knutsen\", 36, \"IT\", 780000], [\"Arild Arildsen\", 52, \"Ledelse\", 1020000], [\"Helen Hansen\", 43, \"Finans\", 980000], [\"Stian Stiansen\", 39, \"Renholder\", 510000]], columns=[\"Navn\", \"Alder\", \"Avdeling\", \"Lønn\"])"
   ]
  },
  {
   "cell_type": "code",
   "execution_count": 29,
   "metadata": {},
   "outputs": [
    {
     "data": {
      "text/plain": [
       "0     550000\n",
       "1     780000\n",
       "2    1020000\n",
       "3     980000\n",
       "4     510000\n",
       "Name: Lønn, dtype: int64"
      ]
     },
     "execution_count": 29,
     "metadata": {},
     "output_type": "execute_result"
    }
   ],
   "source": [
    "df[\"Lønn\"]"
   ]
  },
  {
   "cell_type": "code",
   "execution_count": null,
   "metadata": {},
   "outputs": [
    {
     "data": {
      "text/plain": [
       "Navn        Lise Hansen\n",
       "Alder                28\n",
       "Avdeling             HR\n",
       "Lønn             550000\n",
       "Name: 0, dtype: object"
      ]
     },
     "execution_count": 32,
     "metadata": {},
     "output_type": "execute_result"
    }
   ],
   "source": [
    "# loc[# rows, #columns] <- this allows us to filter by both row and column. Lets ut get several rows as well.\n",
    "# e.g. df.loc[:, [\"Navn\", \"Lønn\"]], gives us all rows from the columns navn and lønn\n",
    "\n",
    "# iloc is similar but instead of labels it uses index-position\n",
    "\n",
    "\n",
    "# gives you the full row, in this case the first row in our dataframe. Python always starts from 0\n",
    "df.iloc[0]"
   ]
  },
  {
   "cell_type": "code",
   "execution_count": null,
   "metadata": {},
   "outputs": [
    {
     "name": "stdout",
     "output_type": "stream",
     "text": [
      "<class 'pandas.core.frame.DataFrame'>\n",
      "RangeIndex: 5 entries, 0 to 4\n",
      "Data columns (total 4 columns):\n",
      " #   Column    Non-Null Count  Dtype \n",
      "---  ------    --------------  ----- \n",
      " 0   Navn      5 non-null      object\n",
      " 1   Alder     5 non-null      int64 \n",
      " 2   Avdeling  5 non-null      object\n",
      " 3   Lønn      5 non-null      int64 \n",
      "dtypes: int64(2), object(2)\n",
      "memory usage: 292.0+ bytes\n"
     ]
    }
   ],
   "source": [
    "# see information about our DF. Column 1 and 3 use int64 == 64 bits == 8 bytes. \n",
    "# This is something we can play around with to be more efficient, by changing the engine\n",
    "\n",
    "df.info()"
   ]
  },
  {
   "cell_type": "code",
   "execution_count": 23,
   "metadata": {},
   "outputs": [
    {
     "data": {
      "text/html": [
       "<div>\n",
       "<style scoped>\n",
       "    .dataframe tbody tr th:only-of-type {\n",
       "        vertical-align: middle;\n",
       "    }\n",
       "\n",
       "    .dataframe tbody tr th {\n",
       "        vertical-align: top;\n",
       "    }\n",
       "\n",
       "    .dataframe thead th {\n",
       "        text-align: right;\n",
       "    }\n",
       "</style>\n",
       "<table border=\"1\" class=\"dataframe\">\n",
       "  <thead>\n",
       "    <tr style=\"text-align: right;\">\n",
       "      <th></th>\n",
       "      <th>Alder</th>\n",
       "      <th>Lønn</th>\n",
       "    </tr>\n",
       "  </thead>\n",
       "  <tbody>\n",
       "    <tr>\n",
       "      <th>count</th>\n",
       "      <td>5.000000</td>\n",
       "      <td>5.000000e+00</td>\n",
       "    </tr>\n",
       "    <tr>\n",
       "      <th>mean</th>\n",
       "      <td>39.600000</td>\n",
       "      <td>7.680000e+05</td>\n",
       "    </tr>\n",
       "    <tr>\n",
       "      <th>std</th>\n",
       "      <td>8.848729</td>\n",
       "      <td>2.359449e+05</td>\n",
       "    </tr>\n",
       "    <tr>\n",
       "      <th>min</th>\n",
       "      <td>28.000000</td>\n",
       "      <td>5.100000e+05</td>\n",
       "    </tr>\n",
       "    <tr>\n",
       "      <th>25%</th>\n",
       "      <td>36.000000</td>\n",
       "      <td>5.500000e+05</td>\n",
       "    </tr>\n",
       "    <tr>\n",
       "      <th>50%</th>\n",
       "      <td>39.000000</td>\n",
       "      <td>7.800000e+05</td>\n",
       "    </tr>\n",
       "    <tr>\n",
       "      <th>75%</th>\n",
       "      <td>43.000000</td>\n",
       "      <td>9.800000e+05</td>\n",
       "    </tr>\n",
       "    <tr>\n",
       "      <th>max</th>\n",
       "      <td>52.000000</td>\n",
       "      <td>1.020000e+06</td>\n",
       "    </tr>\n",
       "  </tbody>\n",
       "</table>\n",
       "</div>"
      ],
      "text/plain": [
       "           Alder          Lønn\n",
       "count   5.000000  5.000000e+00\n",
       "mean   39.600000  7.680000e+05\n",
       "std     8.848729  2.359449e+05\n",
       "min    28.000000  5.100000e+05\n",
       "25%    36.000000  5.500000e+05\n",
       "50%    39.000000  7.800000e+05\n",
       "75%    43.000000  9.800000e+05\n",
       "max    52.000000  1.020000e+06"
      ]
     },
     "execution_count": 23,
     "metadata": {},
     "output_type": "execute_result"
    }
   ],
   "source": [
    "df.describe()"
   ]
  },
  {
   "cell_type": "code",
   "execution_count": null,
   "metadata": {},
   "outputs": [
    {
     "data": {
      "text/plain": [
       "Navn        5\n",
       "Alder       5\n",
       "Avdeling    5\n",
       "Lønn        5\n",
       "dtype: int64"
      ]
     },
     "execution_count": 26,
     "metadata": {},
     "output_type": "execute_result"
    }
   ],
   "source": [
    "#numbers of unique values\n",
    "df.nunique()"
   ]
  },
  {
   "cell_type": "code",
   "execution_count": null,
   "metadata": {},
   "outputs": [
    {
     "data": {
      "text/plain": [
       "(5, 4)"
      ]
     },
     "execution_count": 28,
     "metadata": {},
     "output_type": "execute_result"
    }
   ],
   "source": [
    "# 5 rows and 4 columns\n",
    "df.shape"
   ]
  },
  {
   "cell_type": "code",
   "execution_count": 39,
   "metadata": {},
   "outputs": [],
   "source": [
    "# Opprett en Series med fiktive sykefraværsdager (df['Sykefravær']).\n",
    "import numpy as np\n",
    "df[\"Sykefraværs_dager\"] = np.random.randint(0,11, size=len(df))"
   ]
  },
  {
   "cell_type": "code",
   "execution_count": 46,
   "metadata": {},
   "outputs": [
    {
     "data": {
      "text/html": [
       "<div>\n",
       "<style scoped>\n",
       "    .dataframe tbody tr th:only-of-type {\n",
       "        vertical-align: middle;\n",
       "    }\n",
       "\n",
       "    .dataframe tbody tr th {\n",
       "        vertical-align: top;\n",
       "    }\n",
       "\n",
       "    .dataframe thead th {\n",
       "        text-align: right;\n",
       "    }\n",
       "</style>\n",
       "<table border=\"1\" class=\"dataframe\">\n",
       "  <thead>\n",
       "    <tr style=\"text-align: right;\">\n",
       "      <th></th>\n",
       "      <th>Navn</th>\n",
       "      <th>Alder</th>\n",
       "      <th>Avdeling</th>\n",
       "      <th>Lønn</th>\n",
       "      <th>Sykefraværs_dager</th>\n",
       "    </tr>\n",
       "  </thead>\n",
       "  <tbody>\n",
       "    <tr>\n",
       "      <th>0</th>\n",
       "      <td>Lise Hansen</td>\n",
       "      <td>28</td>\n",
       "      <td>HR</td>\n",
       "      <td>550000</td>\n",
       "      <td>2</td>\n",
       "    </tr>\n",
       "    <tr>\n",
       "      <th>1</th>\n",
       "      <td>Knut Knutsen</td>\n",
       "      <td>36</td>\n",
       "      <td>IT</td>\n",
       "      <td>780000</td>\n",
       "      <td>3</td>\n",
       "    </tr>\n",
       "    <tr>\n",
       "      <th>2</th>\n",
       "      <td>Arild Arildsen</td>\n",
       "      <td>52</td>\n",
       "      <td>Ledelse</td>\n",
       "      <td>1020000</td>\n",
       "      <td>6</td>\n",
       "    </tr>\n",
       "    <tr>\n",
       "      <th>3</th>\n",
       "      <td>Helen Hansen</td>\n",
       "      <td>43</td>\n",
       "      <td>Finans</td>\n",
       "      <td>980000</td>\n",
       "      <td>3</td>\n",
       "    </tr>\n",
       "    <tr>\n",
       "      <th>4</th>\n",
       "      <td>Stian Stiansen</td>\n",
       "      <td>39</td>\n",
       "      <td>Renholder</td>\n",
       "      <td>510000</td>\n",
       "      <td>6</td>\n",
       "    </tr>\n",
       "  </tbody>\n",
       "</table>\n",
       "</div>"
      ],
      "text/plain": [
       "             Navn  Alder   Avdeling     Lønn  Sykefraværs_dager\n",
       "0     Lise Hansen     28         HR   550000                  2\n",
       "1    Knut Knutsen     36         IT   780000                  3\n",
       "2  Arild Arildsen     52    Ledelse  1020000                  6\n",
       "3    Helen Hansen     43     Finans   980000                  3\n",
       "4  Stian Stiansen     39  Renholder   510000                  6"
      ]
     },
     "execution_count": 46,
     "metadata": {},
     "output_type": "execute_result"
    }
   ],
   "source": [
    "df"
   ]
  },
  {
   "cell_type": "markdown",
   "metadata": {},
   "source": []
  }
 ],
 "metadata": {
  "kernelspec": {
   "display_name": ".venv",
   "language": "python",
   "name": "python3"
  },
  "language_info": {
   "codemirror_mode": {
    "name": "ipython",
    "version": 3
   },
   "file_extension": ".py",
   "mimetype": "text/x-python",
   "name": "python",
   "nbconvert_exporter": "python",
   "pygments_lexer": "ipython3",
   "version": "3.12.2"
  }
 },
 "nbformat": 4,
 "nbformat_minor": 2
}
