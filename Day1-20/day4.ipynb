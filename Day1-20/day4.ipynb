{
 "cells": [
  {
   "cell_type": "markdown",
   "metadata": {},
   "source": [
    "Dag 4 – Join & Merge av datasett + Modul-struktur i Script\n",
    "🎯 Læringsmål\n",
    "* Forstå forskjellen mellom merge, join og concat i Pandas.\n",
    "* Slå sammen datasett basert på felles nøkler (f.eks. AnsattID).\n",
    "* Strukturere kode med flere funksjoner og dele script i “moduler”."
   ]
  }
 ],
 "metadata": {
  "language_info": {
   "name": "python"
  }
 },
 "nbformat": 4,
 "nbformat_minor": 2
}
